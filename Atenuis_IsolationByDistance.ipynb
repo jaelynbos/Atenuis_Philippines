{
 "cells": [
  {
   "cell_type": "markdown",
   "id": "68da3446-98ef-4564-b8ec-9c5737939e43",
   "metadata": {},
   "source": [
    "**Acropora tenuis spp in the central Philippines - isolation by distance within cryptic taxa**\\\n",
    "_Inputs:_\\\n",
    "Calculating Fst and linearized Fst between each pair of sites\\\n",
    "Calculating great circle distances between each pair of sites\\\n",
    "Linear regressions and Mantel tests\\\n",
    "Figures\\\n",
    "Created by Jaelyn Bos, November 2024"
   ]
  },
  {
   "cell_type": "code",
   "execution_count": 1,
   "id": "524402f8-5b2a-4fc6-87dd-015208c57f63",
   "metadata": {},
   "outputs": [
    {
     "data": {
      "text/html": [
       "<style>\n",
       ".list-inline {list-style: none; margin:0; padding: 0}\n",
       ".list-inline>li {display: inline-block}\n",
       ".list-inline>li:not(:last-child)::after {content: \"\\00b7\"; padding: 0 .5ex}\n",
       "</style>\n",
       "<ol class=list-inline><li>'/hb/home/jbos/.conda/envs/vcfR/lib/R/library'</li><li>'/hb/software/apps/r/conda3-4.4.1/lib/R/library'</li></ol>\n"
      ],
      "text/latex": [
       "\\begin{enumerate*}\n",
       "\\item '/hb/home/jbos/.conda/envs/vcfR/lib/R/library'\n",
       "\\item '/hb/software/apps/r/conda3-4.4.1/lib/R/library'\n",
       "\\end{enumerate*}\n"
      ],
      "text/markdown": [
       "1. '/hb/home/jbos/.conda/envs/vcfR/lib/R/library'\n",
       "2. '/hb/software/apps/r/conda3-4.4.1/lib/R/library'\n",
       "\n",
       "\n"
      ],
      "text/plain": [
       "[1] \"/hb/home/jbos/.conda/envs/vcfR/lib/R/library\"  \n",
       "[2] \"/hb/software/apps/r/conda3-4.4.1/lib/R/library\""
      ]
     },
     "metadata": {},
     "output_type": "display_data"
    }
   ],
   "source": [
    ".libPaths('/hb/home/jbos/.conda/envs/vcfR')\n",
    ".libPaths(\"/hb/home/jbos/.conda/envs/vcfR/lib/R/library\")\n",
    ".libPaths()"
   ]
  },
  {
   "cell_type": "code",
   "execution_count": 2,
   "id": "909c2761-408d-40cc-ad72-9f199b3fab7d",
   "metadata": {},
   "outputs": [
    {
     "name": "stderr",
     "output_type": "stream",
     "text": [
      "Loading required package: ade4\n",
      "\n",
      "\n",
      "   /// adegenet 2.1.10 is loaded ////////////\n",
      "\n",
      "   > overview: '?adegenet'\n",
      "   > tutorials/doc/questions: 'adegenetWeb()' \n",
      "   > bug reports/feature requests: adegenetIssues()\n",
      "\n",
      "\n",
      "\n",
      "\n",
      "Attaching package: ‘hierfstat’\n",
      "\n",
      "\n",
      "The following objects are masked from ‘package:adegenet’:\n",
      "\n",
      "    Hs, read.fstat\n",
      "\n",
      "\n",
      "── \u001b[1mAttaching core tidyverse packages\u001b[22m ────────────────────────────────────────────────────────────────────────────────────────────────────────────────────────────────────────────────────────────────────────────────────────────────────────────────────────────────────────────────────────────────────────────────────────────────── tidyverse 2.0.0 ──\n",
      "\u001b[32m✔\u001b[39m \u001b[34mdplyr    \u001b[39m 1.1.4     \u001b[32m✔\u001b[39m \u001b[34mreadr    \u001b[39m 2.1.5\n",
      "\u001b[32m✔\u001b[39m \u001b[34mforcats  \u001b[39m 1.0.0     \u001b[32m✔\u001b[39m \u001b[34mstringr  \u001b[39m 1.5.1\n",
      "\u001b[32m✔\u001b[39m \u001b[34mggplot2  \u001b[39m 3.5.1     \u001b[32m✔\u001b[39m \u001b[34mtibble   \u001b[39m 3.2.1\n",
      "\u001b[32m✔\u001b[39m \u001b[34mlubridate\u001b[39m 1.9.3     \u001b[32m✔\u001b[39m \u001b[34mtidyr    \u001b[39m 1.3.1\n",
      "\u001b[32m✔\u001b[39m \u001b[34mpurrr    \u001b[39m 1.0.2     \n",
      "── \u001b[1mConflicts\u001b[22m ──────────────────────────────────────────────────────────────────────────────────────────────────────────────────────────────────────────────────────────────────────────────────────────────────────────────────────────────────────────────────────────────────────────────────────────────────────────────────── tidyverse_conflicts() ──\n",
      "\u001b[31m✖\u001b[39m \u001b[34mdplyr\u001b[39m::\u001b[32mfilter()\u001b[39m masks \u001b[34mstats\u001b[39m::filter()\n",
      "\u001b[31m✖\u001b[39m \u001b[34mdplyr\u001b[39m::\u001b[32mlag()\u001b[39m    masks \u001b[34mstats\u001b[39m::lag()\n",
      "\u001b[36mℹ\u001b[39m Use the conflicted package (\u001b[3m\u001b[34m<http://conflicted.r-lib.org/>\u001b[39m\u001b[23m) to force all conflicts to become errors\n",
      "Loading required package: permute\n",
      "\n",
      "Loading required package: lattice\n",
      "\n",
      "This is vegan 2.6-8\n",
      "\n",
      "\n",
      "   *****       ***   vcfR   ***       *****\n",
      "   This is vcfR 1.15.0 \n",
      "     browseVignettes('vcfR') # Documentation\n",
      "     citation('vcfR') # Citation\n",
      "   *****       *****      *****       *****\n",
      "\n",
      "\n"
     ]
    }
   ],
   "source": [
    "#Load required packages\n",
    "library(adegenet)\n",
    "library(hierfstat)\n",
    "library(tidyverse)\n",
    "library(vegan)\n",
    "library(vcfR)"
   ]
  },
  {
   "cell_type": "code",
   "execution_count": 3,
   "id": "6d1135d5-49e6-4a75-a1db-3e7365fcab1a",
   "metadata": {},
   "outputs": [],
   "source": [
    "island_sel <- function(string){\n",
    "  x<-substr(string, start = 1, stop = 3)\n",
    "  return(x)\n",
    "}"
   ]
  },
  {
   "cell_type": "code",
   "execution_count": 4,
   "id": "31eb7d21-c597-4d01-b666-b312fa5f84cc",
   "metadata": {},
   "outputs": [
    {
     "name": "stdout",
     "output_type": "stream",
     "text": [
      "Scanning file to determine attributes.\n",
      "File attributes:\n",
      "  meta lines: 1605\n",
      "  header_line: 1606\n",
      "  variant count: 2218\n",
      "  column count: 133\n",
      "Meta line 1605 read in.\n",
      "All meta lines processed.\n",
      "gt matrix initialized.\n",
      "Character matrix gt created.\n",
      "  Character matrix gt rows: 2218\n",
      "  Character matrix gt cols: 133\n",
      "  skip: 0\n",
      "  nrows: 2218\n",
      "  row_num: 0\n",
      "Processed variant: 2218\n",
      "All variants processed\n",
      "Scanning file to determine attributes.\n",
      "File attributes:\n",
      "  meta lines: 1605\n",
      "  header_line: 1606\n",
      "  variant count: 1996\n",
      "  column count: 82\n",
      "Meta line 1605 read in.\n",
      "All meta lines processed.\n",
      "gt matrix initialized.\n",
      "Character matrix gt created.\n",
      "  Character matrix gt rows: 1996\n",
      "  Character matrix gt cols: 82\n",
      "  skip: 0\n",
      "  nrows: 1996\n",
      "  row_num: 0\n",
      "Processed variant: 1996\n",
      "All variants processed\n",
      "Scanning file to determine attributes.\n",
      "File attributes:\n",
      "  meta lines: 1605\n",
      "  header_line: 1606\n",
      "  variant count: 2421\n",
      "  column count: 69\n",
      "Meta line 1605 read in.\n",
      "All meta lines processed.\n",
      "gt matrix initialized.\n",
      "Character matrix gt created.\n",
      "  Character matrix gt rows: 2421\n",
      "  Character matrix gt cols: 69\n",
      "  skip: 0\n",
      "  nrows: 2421\n",
      "  row_num: 0\n",
      "Processed variant: 2421\n",
      "All variants processed\n",
      "Scanning file to determine attributes.\n",
      "File attributes:\n",
      "  meta lines: 1605\n",
      "  header_line: 1606\n",
      "  variant count: 1346\n",
      "  column count: 78\n",
      "Meta line 1605 read in.\n",
      "All meta lines processed.\n",
      "gt matrix initialized.\n",
      "Character matrix gt created.\n",
      "  Character matrix gt rows: 1346\n",
      "  Character matrix gt cols: 78\n",
      "  skip: 0\n",
      "  nrows: 1346\n",
      "  row_num: 0\n",
      "Processed variant: 1346\n",
      "All variants processed\n"
     ]
    }
   ],
   "source": [
    "spp1<-read.vcfR(\"/hb/scratch/jbos/spp1/snps_filtered_depth.recode.vcf\")\n",
    "spp2<-read.vcfR(\"/hb/scratch/jbos/spp2b/snps_filtered_depth.recode.vcf\")\n",
    "spp3<-read.vcfR(\"/hb/scratch/jbos/spp3/snps_filtered_depth.recode.vcf\")\n",
    "spp4<-read.vcfR(\"/hb/scratch/jbos/spp4/snps_filtered_depth.recode.vcf\")"
   ]
  },
  {
   "cell_type": "code",
   "execution_count": 5,
   "id": "4d9eac29-ce6d-4772-9e91-3a79bc5e8dfd",
   "metadata": {},
   "outputs": [],
   "source": [
    "genind1 <- vcfR2genind(spp1)\n",
    "genind2 <- vcfR2genind(spp2)\n",
    "genind3 <- vcfR2genind(spp3)\n",
    "genind4 <- vcfR2genind(spp4)"
   ]
  },
  {
   "cell_type": "code",
   "execution_count": 6,
   "id": "56ed2fa8-19c3-4283-ac3c-9628b0110cc7",
   "metadata": {},
   "outputs": [],
   "source": [
    "genind1@pop <-as.factor(unlist(lapply(strsplit(rownames(genind1$tab),\"_\"), head, 1)))\n",
    "genind2@pop <-as.factor(unlist(lapply(strsplit(rownames(genind2$tab),\"_\"), head, 1)))\n",
    "genind3@pop <-as.factor(unlist(lapply(strsplit(rownames(genind3$tab),\"_\"), head, 1)))\n",
    "genind4@pop <-as.factor(unlist(lapply(strsplit(rownames(genind4$tab),\"_\"), head, 1)))"
   ]
  },
  {
   "cell_type": "code",
   "execution_count": 7,
   "id": "51ba9f3b-2c8c-4a16-8b6b-e65e4a1e5fa8",
   "metadata": {},
   "outputs": [
    {
     "data": {
      "text/plain": [
       "   ***Population specific and Overall Fst*** \n",
       "\n",
       "     CEB01      CEB02      CEB04      CEB05      CEB06      CEB07      CEB08 \n",
       "-0.0165321 -0.0879899  0.1305572 -0.0259425 -0.0960462 -0.0140231  0.0278182 \n",
       "     CEB09      CEB10      CEB11      CEB12      CEB13      CEB14      CEB16 \n",
       " 0.0173947 -0.0217731  0.0373847 -0.0517568  0.0169676 -0.0260945  0.0353355 \n",
       "     CEB18      CEB19      CEB21      CEB22      CEB23      CEB24      CEB25 \n",
       " 0.0133180 -0.0077769  0.0066965  0.0634065  0.0227962  0.0109464 -0.0022937 \n",
       "     CEB26      CEB27      CEB29      CEB32      CEB33      CEB35      LEY01 \n",
       "-0.0098727 -0.0125320 -0.0140814  0.0045693  0.0327696 -0.0135293 -0.1636113 \n",
       "     LEY02      LEY04      LEY05      LEY06      LEY07      LEY09      LEY11 \n",
       "-0.0267426 -0.0292051 -0.0094624 -0.0292401 -0.0364658  0.2239781  0.0121331 \n",
       "     LEY13      LEY15    Overall \n",
       "-0.0077326  0.0234936 -0.0006254 "
      ]
     },
     "metadata": {},
     "output_type": "display_data"
    }
   ],
   "source": [
    "betas(genind1)"
   ]
  },
  {
   "cell_type": "code",
   "execution_count": 10,
   "id": "2ae75ca1-762d-4bd7-98f5-c3a4fb3d24de",
   "metadata": {},
   "outputs": [],
   "source": [
    "hstat1<-genind2hierfstat(genind1,pop=genind1@pop)\n",
    "hstat2<-genind2hierfstat(genind2,pop=genind2@pop)\n",
    "hstat3<-genind2hierfstat(genind3,pop=genind3@pop)\n",
    "hstat4<-genind2hierfstat(genind4,pop=genind4@pop)"
   ]
  },
  {
   "cell_type": "code",
   "execution_count": null,
   "id": "0d748dce-3806-466c-9753-7a3a4130a0f9",
   "metadata": {},
   "outputs": [],
   "source": [
    "pairwise.WCfst(hstat2)"
   ]
  },
  {
   "cell_type": "code",
   "execution_count": null,
   "id": "f9750077-8bf7-4795-a975-04310c2a2b5e",
   "metadata": {},
   "outputs": [],
   "source": []
  },
  {
   "cell_type": "code",
   "execution_count": null,
   "id": "38e4e5ad-57d3-416e-b10a-22f6de45e9eb",
   "metadata": {},
   "outputs": [],
   "source": []
  },
  {
   "cell_type": "code",
   "execution_count": null,
   "id": "560c2d6c-fa98-44ff-9976-7306d129fd86",
   "metadata": {},
   "outputs": [],
   "source": []
  }
 ],
 "metadata": {
  "kernelspec": {
   "display_name": "R",
   "language": "R",
   "name": "ir"
  },
  "language_info": {
   "codemirror_mode": "r",
   "file_extension": ".r",
   "mimetype": "text/x-r-source",
   "name": "R",
   "pygments_lexer": "r",
   "version": "4.4.1"
  }
 },
 "nbformat": 4,
 "nbformat_minor": 5
}
